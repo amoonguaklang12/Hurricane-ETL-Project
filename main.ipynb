{
 "cells": [
  {
   "cell_type": "code",
   "execution_count": null,
   "metadata": {},
   "outputs": [],
   "source": [
    "#Dependencies\n",
    "import matplotlib.pyplot as plt\n",
    "import pandas as pd\n",
    "import numpy as np\n",
    "import requests\n",
    "import datetime\n",
    "import scipy.stats as st\n",
    "from scipy.stats import linregress\n",
    "from pprint import pprint\n",
    "from datetime import timezone\n",
    "# Import API key\n",
    "from config import weather_api_key"
   ]
  },
  {
   "cell_type": "code",
   "execution_count": null,
   "metadata": {},
   "outputs": [],
   "source": [
    "path = \"Data\\storm_data.csv\"\n",
    "load = pd.read_csv(path)\n",
    "hurricane_df = pd.DataFrame(load)\n",
    "hurricane_df"
   ]
  },
  {
   "cell_type": "code",
   "execution_count": null,
   "metadata": {},
   "outputs": [],
   "source": [
    "# Creating series to add to our dataframe\n",
    "start_dates = []\n",
    "unix_start_dates = []\n",
    "unix_end_dates = []\n",
    "end_dates = []\n",
    "unix_compliant = []\n",
    "\n",
    "# Array of tuples to reference months\n",
    "months = [(\"Jan\", 1), (\"Feb\", 2), (\"Mar\", 3), \n",
    "          (\"Apr\", 4), (\"May\", 5), (\"Jun\", 6), \n",
    "          (\"Jul\", 7), (\"Aug\", 8), (\"Sep\", 9), \n",
    "          (\"Oct\", 10), (\"Nov\", 11), (\"Dec\", 12)]\n",
    "\n",
    "# Substrings of start dates and end dates\n",
    "for date in hurricane_df[\"DATE RANGE\"]:\n",
    "    start_dates.append(date[0:12])\n",
    "    end_dates.append(date[16:])\n",
    "\n",
    "# Convert substrings into numeric values for start dates and convert them into unix timestamps\n",
    "for date in start_dates:\n",
    "    year = int(date[-4:])\n",
    "    month = date[0:3]\n",
    "    count = 0\n",
    "    for x in months:\n",
    "        if month == months[count][0]:\n",
    "            month = months[count][1]\n",
    "        else:\n",
    "            count += 1\n",
    "    day = int(date[4:6])\n",
    "    dt = datetime.datetime(year, month, day)\n",
    "    timestamp = dt.replace(tzinfo=timezone.utc).timestamp()\n",
    "    timestamp = dt.replace(tzinfo=timezone.utc).timestamp()\n",
    "    unix_start_dates.append(timestamp)\n",
    "    \n",
    "    # Categorizes dates into before 1970 or after 1970\n",
    "    if year >= 1970:\n",
    "        unix_compliant.append(\"True\")\n",
    "    else:\n",
    "        unix_compliant.append(\"False\")\n",
    "        \n",
    "# Convert substrings into numeric values for end dates and convert them into unix timestamps\n",
    "for date in end_dates:\n",
    "    year = int(date[-4:])\n",
    "    month = date[0:3]\n",
    "    count = 0\n",
    "    for x in months:\n",
    "        if month == months[count][0]:\n",
    "            month = months[count][1]\n",
    "        else:\n",
    "            count += 1\n",
    "    day = int(date[4:6])\n",
    "    dt = datetime.datetime(year, month, day)\n",
    "    timestamp = dt.replace(tzinfo=timezone.utc).timestamp()\n",
    "    unix_end_dates.append(timestamp)"
   ]
  },
  {
   "cell_type": "code",
   "execution_count": null,
   "metadata": {},
   "outputs": [],
   "source": [
    "# Adds series to dataframe\n",
    "hurricane_df[\"START DATE\"] = unix_start_dates\n",
    "hurricane_df[\"END DATE\"] = unix_end_dates\n",
    "hurricane_df[\"UNIX COMPLIANT\"] = unix_compliant"
   ]
  },
  {
   "cell_type": "code",
   "execution_count": null,
   "metadata": {},
   "outputs": [],
   "source": [
    "# Filters data to be UNIX timestamp compliant\n",
    "hurricane_df = hurricane_df[hurricane_df[\"UNIX COMPLIANT\"] == \"True\"]\n",
    "hurricane_df = hurricane_df[[\"STORM NAME & YEAR\", \"DATE RANGE\", \"START DATE\", \"END DATE\", \"MAX WIND SPEED\", \"MAX CATEGORY\"]]"
   ]
  },
  {
   "cell_type": "code",
   "execution_count": null,
   "metadata": {},
   "outputs": [],
   "source": [
    "# Change UNIX timestamps to fit the API parameter\n",
    "hurricane_df[\"START DATE\"]=(hurricane_df[\"START DATE\"].astype(int))\n",
    "hurricane_df[\"END DATE\"]=(hurricane_df[\"END DATE\"].astype(int))\n",
    "hurricane_df"
   ]
  },
  {
   "cell_type": "code",
   "execution_count": null,
   "metadata": {},
   "outputs": [],
   "source": [
    "# Drop dates that were before 1979 to fit the API call\n",
    "hurricane_df = hurricane_df.drop(hurricane_df.index[32:])\n",
    "hurricane_df"
   ]
  },
  {
   "cell_type": "code",
   "execution_count": null,
   "metadata": {},
   "outputs": [],
   "source": [
    "#OpenWeather AP Extraction\n",
    "\n",
    "url = \" https://api.openweathermap.org/data/3.0/onecall/timemachine?\"\n",
    "latitude = 28.53\n",
    "longitiude = -81.37\n",
    "\n",
    "#testing calls\n",
    "query_url = f\"{url}lat={latitude}&lon={longitiude}&dt={1128470400}&appid={weather_api_key}\"\n",
    "query_url"
   ]
  },
  {
   "cell_type": "code",
   "execution_count": null,
   "metadata": {},
   "outputs": [],
   "source": [
    "# Test if API worked\n",
    "response = requests.get(query_url).json()\n",
    "pprint(response)"
   ]
  },
  {
   "cell_type": "code",
   "execution_count": null,
   "metadata": {},
   "outputs": [],
   "source": [
    "# response[\"data\"][0][\"pressure\"]\n",
    "response[\"data\"][0][\"weather\"][0][\"description\"]"
   ]
  },
  {
   "cell_type": "code",
   "execution_count": null,
   "metadata": {},
   "outputs": [],
   "source": [
    "#Set up lists to hold info\n",
    "dt = []\n",
    "temp = []\n",
    "pressure = []\n",
    "perc_humidity = []\n",
    "perc_cloud = []\n",
    "weather_id = []\n",
    "\n",
    "for x in range(len(hurricane_df)):\n",
    "    response = requests.get(f\"{url}lat={latitude}&lon={longitiude}&dt={hurricane_df['START DATE'][x]}&appid={weather_api_key}\").json()\n",
    "    temp.append(response[\"data\"][0][\"temp\"])\n",
    "    pressure.append(response[\"data\"][0][\"pressure\"])\n",
    "    perc_humidity.append(response[\"data\"][0][\"humidity\"])\n",
    "    perc_cloud.append(response[\"data\"][0][\"clouds\"])\n",
    "    weather_id.append(response[\"data\"][0][\"weather\"][0][\"description\"])\n",
    "    dt.append(hurricane_df['START DATE'][x])"
   ]
  },
  {
   "cell_type": "code",
   "execution_count": null,
   "metadata": {},
   "outputs": [],
   "source": [
    "# Dictionary for Weather Data on the Start Date\n",
    "first_dict = {\n",
    "            \"START DATE\": dt,\n",
    "            \"Start Temperature\": temp,\n",
    "            \"Start Pressure\": pressure,\n",
    "            \"Start Humidity(%)\": perc_humidity,\n",
    "            \"Start Cloudiness(%)\": perc_cloud,\n",
    "            \"Start Weather Description\": weather_id\n",
    "           }\n",
    "first_df = pd.DataFrame(first_dict)\n",
    "first_df.head(3)"
   ]
  },
  {
   "cell_type": "code",
   "execution_count": null,
   "metadata": {},
   "outputs": [],
   "source": [
    "#Set up lists to hold info\n",
    "dt = []\n",
    "temp = []\n",
    "pressure = []\n",
    "perc_humidity = []\n",
    "perc_cloud = []\n",
    "weather_id = []\n",
    "\n",
    "# def orlando_hurricane_info(dt):\n",
    "#     response = requests.get(query_url).json()\n",
    "for x in range(len(hurricane_df)):\n",
    "    response = requests.get(f\"{url}lat={latitude}&lon={longitiude}&dt={hurricane_df['END DATE'][x]}&appid={weather_api_key}\").json()\n",
    "    temp.append(response[\"data\"][0][\"temp\"])\n",
    "    pressure.append(response[\"data\"][0][\"pressure\"])\n",
    "    perc_humidity.append(response[\"data\"][0][\"humidity\"])\n",
    "    perc_cloud.append(response[\"data\"][0][\"clouds\"])\n",
    "    weather_id.append(response[\"data\"][0][\"weather\"][0][\"description\"])\n",
    "    dt.append(hurricane_df['END DATE'][x])"
   ]
  },
  {
   "cell_type": "code",
   "execution_count": null,
   "metadata": {},
   "outputs": [],
   "source": [
    "# Dictionary for weather data for End Date\n",
    "second_dict = {\n",
    "            \"END DATE\": dt,\n",
    "            \"End Temperature\": temp,\n",
    "            \"End Pressure\": pressure,\n",
    "            \"End Humidity(%)\": perc_humidity,\n",
    "            \"End Cloudiness(%)\": perc_cloud,\n",
    "            \"End Weather Description\": weather_id\n",
    "           }\n",
    "second_df = pd.DataFrame(second_dict)\n",
    "second_df.head(3)"
   ]
  },
  {
   "cell_type": "code",
   "execution_count": null,
   "metadata": {},
   "outputs": [],
   "source": [
    "# Merge main dataframe with collected weather data for Start and End Dates\n",
    "merged_df1 = hurricane_df.merge(first_df, how=\"inner\", on=\"START DATE\")\n",
    "merged_df1"
   ]
  },
  {
   "cell_type": "code",
   "execution_count": null,
   "metadata": {},
   "outputs": [],
   "source": [
    "merged_df2 = merged_df1.merge(second_df, how=\"inner\", on=\"END DATE\")\n",
    "merged_df2.head()"
   ]
  },
  {
   "cell_type": "code",
   "execution_count": null,
   "metadata": {},
   "outputs": [],
   "source": [
    "# Reorder Columns\n",
    "clean_df = merged_df2[[\"STORM NAME & YEAR\", \"DATE RANGE\", \"MAX CATEGORY\", \"MAX WIND SPEED\", \"Start Temperature\", \"End Temperature\", \"Start Pressure\", \"End Pressure\",\n",
    "                      \"Start Humidity(%)\", \"End Humidity(%)\", \"Start Cloudiness(%)\", \"End Cloudiness(%)\", \"Start Weather Description\", \"End Weather Description\"]]\n",
    "clean_df"
   ]
  },
  {
   "cell_type": "code",
   "execution_count": null,
   "metadata": {},
   "outputs": [],
   "source": [
    "# Write Cleaned Data to a CSV file\n",
    "clean_df.to_csv(\"Orlando Hurricane Data.csv\")"
   ]
  }
 ],
 "metadata": {
  "kernelspec": {
   "display_name": "Python 3 (ipykernel)",
   "language": "python",
   "name": "python3"
  },
  "language_info": {
   "codemirror_mode": {
    "name": "ipython",
    "version": 3
   },
   "file_extension": ".py",
   "mimetype": "text/x-python",
   "name": "python",
   "nbconvert_exporter": "python",
   "pygments_lexer": "ipython3",
   "version": "3.8.13"
  },
  "vscode": {
   "interpreter": {
    "hash": "0c15d23d1c2a5dfe21484e98a4ab0b6148c7db087c173128b5ea2bdbe87e1f5b"
   }
  }
 },
 "nbformat": 4,
 "nbformat_minor": 4
}
