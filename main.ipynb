{
 "cells": [
  {
   "cell_type": "code",
   "execution_count": 1,
   "id": "2367d232-7fb2-4e99-8453-c61e8b0ada30",
   "metadata": {},
   "outputs": [],
   "source": [
    "#Dependencies\n",
    "import matplotlib.pyplot as plt\n",
    "import pandas as pd\n",
    "import numpy as np\n",
    "import requests\n",
    "import time\n",
    "import scipy.stats as st\n",
    "from scipy.stats import linregress\n",
    "from pprint import pprint"
   ]
  },
  {
   "cell_type": "markdown",
   "id": "0552b320-8f6d-47e0-a5fc-73295419e80d",
   "metadata": {},
   "source": [
    "# 1. EXTRACT"
   ]
  },
  {
   "cell_type": "markdown",
   "id": "4c06d4ec-defa-4ebc-8d8c-7fbd1c9079a5",
   "metadata": {},
   "source": [
    "## Hurricane Track Data from NOAA"
   ]
  },
  {
   "cell_type": "code",
   "execution_count": 2,
   "id": "87995c96-6110-4d1d-bc13-505b1135a44a",
   "metadata": {},
   "outputs": [
    {
     "data": {
      "text/html": [
       "<div>\n",
       "<style scoped>\n",
       "    .dataframe tbody tr th:only-of-type {\n",
       "        vertical-align: middle;\n",
       "    }\n",
       "\n",
       "    .dataframe tbody tr th {\n",
       "        vertical-align: top;\n",
       "    }\n",
       "\n",
       "    .dataframe thead th {\n",
       "        text-align: right;\n",
       "    }\n",
       "</style>\n",
       "<table border=\"1\" class=\"dataframe\">\n",
       "  <thead>\n",
       "    <tr style=\"text-align: right;\">\n",
       "      <th></th>\n",
       "      <th>STORM NAME &amp; YEAR</th>\n",
       "      <th>DATE RANGE</th>\n",
       "      <th>MAX WIND SPEED</th>\n",
       "      <th>MIN PRESSURE</th>\n",
       "      <th>MAX CATEGORY</th>\n",
       "    </tr>\n",
       "  </thead>\n",
       "  <tbody>\n",
       "    <tr>\n",
       "      <th>0</th>\n",
       "      <td>IRMA 2017</td>\n",
       "      <td>Aug 30, 2017 to Sep 13, 2017</td>\n",
       "      <td>155</td>\n",
       "      <td>914</td>\n",
       "      <td>H5</td>\n",
       "    </tr>\n",
       "    <tr>\n",
       "      <th>1</th>\n",
       "      <td>EMILY 2017</td>\n",
       "      <td>Jul 30, 2017 to Aug 02, 2017</td>\n",
       "      <td>50</td>\n",
       "      <td>1001</td>\n",
       "      <td>TS</td>\n",
       "    </tr>\n",
       "    <tr>\n",
       "      <th>2</th>\n",
       "      <td>MATTHEW 2016</td>\n",
       "      <td>Sep 28, 2016 to Oct 10, 2016</td>\n",
       "      <td>145</td>\n",
       "      <td>934</td>\n",
       "      <td>H5</td>\n",
       "    </tr>\n",
       "    <tr>\n",
       "      <th>3</th>\n",
       "      <td>JULIA 2016</td>\n",
       "      <td>Sep 13, 2016 to Sep 21, 2016</td>\n",
       "      <td>45</td>\n",
       "      <td>1007</td>\n",
       "      <td>TS</td>\n",
       "    </tr>\n",
       "    <tr>\n",
       "      <th>4</th>\n",
       "      <td>DEBBY 2012</td>\n",
       "      <td>Jun 23, 2012 to Jun 27, 2012</td>\n",
       "      <td>55</td>\n",
       "      <td>990</td>\n",
       "      <td>TS</td>\n",
       "    </tr>\n",
       "  </tbody>\n",
       "</table>\n",
       "</div>"
      ],
      "text/plain": [
       "  STORM NAME & YEAR                    DATE RANGE  MAX WIND SPEED  \\\n",
       "0         IRMA 2017  Aug 30, 2017 to Sep 13, 2017             155   \n",
       "1        EMILY 2017  Jul 30, 2017 to Aug 02, 2017              50   \n",
       "2      MATTHEW 2016  Sep 28, 2016 to Oct 10, 2016             145   \n",
       "3        JULIA 2016  Sep 13, 2016 to Sep 21, 2016              45   \n",
       "4        DEBBY 2012  Jun 23, 2012 to Jun 27, 2012              55   \n",
       "\n",
       "   MIN PRESSURE MAX CATEGORY  \n",
       "0           914           H5  \n",
       "1          1001           TS  \n",
       "2           934           H5  \n",
       "3          1007           TS  \n",
       "4           990           TS  "
      ]
     },
     "execution_count": 2,
     "metadata": {},
     "output_type": "execute_result"
    }
   ],
   "source": [
    "# Hurricane DataFrame of all Hurricanes that passed through Orlando, FL\n",
    "hurricane_df = pd.read_csv(\"databootcamp/Hurricane-ETL-Project/Data/storm_data.csv\")\n",
    "hurricane_df.head()"
   ]
  },
  {
   "cell_type": "markdown",
   "id": "d601aaee-b624-41e7-964a-eacf097ad76e",
   "metadata": {},
   "source": [
    "## Weather Data from OpenWeather API"
   ]
  },
  {
   "cell_type": "code",
   "execution_count": null,
   "id": "cfc11b65-1c3e-4b80-82bf-b725d0b73977",
   "metadata": {},
   "outputs": [],
   "source": []
  },
  {
   "cell_type": "markdown",
   "id": "7b9b12a3-7739-4457-b971-bc9c82a644c2",
   "metadata": {},
   "source": [
    "# 2. TRANSFORM"
   ]
  },
  {
   "cell_type": "markdown",
   "id": "75e1933e-f80f-47fc-a510-e2da0d17f9d1",
   "metadata": {},
   "source": [
    "# 3. LOAD"
   ]
  },
  {
   "cell_type": "code",
   "execution_count": null,
   "id": "83dc66d8-0b64-4640-9d42-13783426d52b",
   "metadata": {},
   "outputs": [],
   "source": []
  }
 ],
 "metadata": {
  "kernelspec": {
   "display_name": "Python 3 (ipykernel)",
   "language": "python",
   "name": "python3"
  },
  "language_info": {
   "codemirror_mode": {
    "name": "ipython",
    "version": 3
   },
   "file_extension": ".py",
   "mimetype": "text/x-python",
   "name": "python",
   "nbconvert_exporter": "python",
   "pygments_lexer": "ipython3",
   "version": "3.8.13"
  }
 },
 "nbformat": 4,
 "nbformat_minor": 5
}
