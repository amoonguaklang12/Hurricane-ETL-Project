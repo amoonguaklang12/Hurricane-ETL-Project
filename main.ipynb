{
 "cells": [
  {
   "cell_type": "code",
   "execution_count": null,
   "id": "2367d232-7fb2-4e99-8453-c61e8b0ada30",
   "metadata": {},
   "outputs": [],
   "source": [
    "#Dependencies\n",
    "import matplotlib.pyplot as plt\n",
    "import pandas as pd\n",
    "import numpy as np\n",
    "import requests\n",
    "import datetime\n",
    "import scipy.stats as st\n",
    "from scipy.stats import linregress\n",
    "from pprint import pprint\n",
    "from datetime import timezone"
   ]
  },
  {
   "cell_type": "markdown",
   "id": "0552b320-8f6d-47e0-a5fc-73295419e80d",
   "metadata": {},
   "source": [
    "# 1. EXTRACT"
   ]
  },
  {
   "cell_type": "markdown",
   "id": "4c06d4ec-defa-4ebc-8d8c-7fbd1c9079a5",
   "metadata": {},
   "source": [
    "## Hurricane Track Data from NOAA"
   ]
  },
  {
   "cell_type": "code",
   "execution_count": null,
   "id": "87995c96-6110-4d1d-bc13-505b1135a44a",
   "metadata": {},
   "outputs": [],
   "source": [
    "# Hurricane DataFrame of all Hurricanes that passed through Orlando, FL\n",
    "hurricane_df = pd.read_csv(\"databootcamp/Hurricane-ETL-Project/Data/storm_data.csv\")\n",
    "hurricane_df.head()"
   ]
  },
  {
   "cell_type": "code",
   "execution_count": null,
   "id": "e58e513a-2014-4464-a3cc-2e8d99955717",
   "metadata": {},
   "outputs": [],
   "source": [
    "# Creating series to add to our dataframe\n",
    "start_dates = []\n",
    "unix_start_dates = []\n",
    "unix_end_dates = []\n",
    "end_dates = []\n",
    "unix_compliant = []\n",
    "\n",
    "# Array of tuples to reference months\n",
    "months = [(\"Jan\", 1), (\"Feb\", 2), (\"Mar\", 3), \n",
    "          (\"Apr\", 4), (\"May\", 5), (\"Jun\", 6), \n",
    "          (\"Jul\", 7), (\"Aug\", 8), (\"Sep\", 9), \n",
    "          (\"Oct\", 10), (\"Nov\", 11), (\"Dec\", 12)]\n",
    "\n",
    "# Substrings of start dates and end dates\n",
    "for date in hurricane_df[\"DATE RANGE\"]:\n",
    "    start_dates.append(date[0:12])\n",
    "    end_dates.append(date[16:])\n",
    "\n",
    "# Convert substrings into numeric values for start dates and convert them into unix timestamps\n",
    "for date in start_dates:\n",
    "    year = int(date[-4:])\n",
    "    month = date[0:3]\n",
    "    count = 0\n",
    "    for x in months:\n",
    "        if month == months[count][0]:\n",
    "            month = months[count][1]\n",
    "        else:\n",
    "            count += 1\n",
    "    day = int(date[4:6])\n",
    "    dt = datetime.datetime(year, month, day)\n",
    "    timestamp = dt.replace(tzinfo=timezone.utc).timestamp()\n",
    "    unix_start_dates.append(timestamp)\n",
    "    \n",
    "    # Categorizes dates into before 1970 or after 1970\n",
    "    if year >= 1970:\n",
    "        unix_compliant.append(\"True\")\n",
    "    else:\n",
    "        unix_compliant.append(\"False\")\n",
    "        \n",
    "# Convert substrings into numeric values for end dates and convert them into unix timestamps\n",
    "for date in end_dates:\n",
    "    year = int(date[-4:])\n",
    "    month = date[0:3]\n",
    "    count = 0\n",
    "    for x in months:\n",
    "        if month == months[count][0]:\n",
    "            month = months[count][1]\n",
    "        else:\n",
    "            count += 1\n",
    "    day = int(date[4:6])\n",
    "    dt = datetime.datetime(year, month, day)\n",
    "    timestamp = dt.replace(tzinfo=timezone.utc).timestamp()\n",
    "    unix_end_dates.append(timestamp)"
   ]
  },
  {
   "cell_type": "code",
   "execution_count": null,
   "id": "a6b3d273-59fb-49f0-b8c1-c4e832776350",
   "metadata": {},
   "outputs": [],
   "source": [
    "# Adds series to dataframe\n",
    "hurricane_df[\"START DATE\"] = unix_start_dates\n",
    "hurricane_df[\"END DATE\"] = unix_end_dates\n",
    "hurricane_df[\"UNIX COMPLIANT\"] = unix_compliant"
   ]
  },
  {
   "cell_type": "code",
   "execution_count": null,
   "id": "3f9ebbda-bf51-49c3-aed6-d22cb51ee2bb",
   "metadata": {},
   "outputs": [],
   "source": [
    "# Filters data to be UNIX timestamp compliant\n",
    "hurricane_df = hurricane_df[hurricane_df[\"UNIX COMPLIANT\"] == \"True\"]\n",
    "hurricane_df = hurricane_df[[\"STORM NAME & YEAR\", \"DATE RANGE\", \"START DATE\", \"END DATE\", \"MAX WIND SPEED\", \"MAX CATEGORY\"]]\n",
    "hurricane_df"
   ]
  },
  {
   "cell_type": "markdown",
   "id": "d601aaee-b624-41e7-964a-eacf097ad76e",
   "metadata": {},
   "source": [
    "## Weather Data from OpenWeather API"
   ]
  },
  {
   "cell_type": "code",
   "execution_count": null,
   "id": "cfc11b65-1c3e-4b80-82bf-b725d0b73977",
   "metadata": {},
   "outputs": [],
   "source": []
  },
  {
   "cell_type": "markdown",
   "id": "7b9b12a3-7739-4457-b971-bc9c82a644c2",
   "metadata": {},
   "source": [
    "# 2. TRANSFORM"
   ]
  },
  {
   "cell_type": "markdown",
   "id": "75e1933e-f80f-47fc-a510-e2da0d17f9d1",
   "metadata": {},
   "source": [
    "# 3. LOAD"
   ]
  },
  {
   "cell_type": "code",
   "execution_count": null,
   "id": "83dc66d8-0b64-4640-9d42-13783426d52b",
   "metadata": {},
   "outputs": [],
   "source": []
  }
 ],
 "metadata": {
  "kernelspec": {
   "display_name": "Python 3 (ipykernel)",
   "language": "python",
   "name": "python3"
  },
  "language_info": {
   "codemirror_mode": {
    "name": "ipython",
    "version": 3
   },
   "file_extension": ".py",
   "mimetype": "text/x-python",
   "name": "python",
   "nbconvert_exporter": "python",
   "pygments_lexer": "ipython3",
   "version": "3.8.13"
  }
 },
 "nbformat": 4,
 "nbformat_minor": 5
}
